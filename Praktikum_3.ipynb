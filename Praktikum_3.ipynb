{
  "nbformat": 4,
  "nbformat_minor": 0,
  "metadata": {
    "colab": {
      "provenance": []
    },
    "kernelspec": {
      "name": "python3",
      "display_name": "Python 3"
    },
    "language_info": {
      "name": "python"
    }
  },
  "cells": [
    {
      "cell_type": "code",
      "execution_count": null,
      "metadata": {
        "colab": {
          "base_uri": "https://localhost:8080/"
        },
        "id": "Lq0vee7KxsjQ",
        "outputId": "c313faf1-22bc-4a4c-f72c-0c24023ffbdd"
      },
      "outputs": [
        {
          "output_type": "stream",
          "name": "stdout",
          "text": [
            "Biodata Mahasiswa\n",
            "Selamat datang di Toko Maju Jaya\n",
            "Senin, 4 September 2023       13.05\n",
            " \n",
            "DAFTAR BELANJA:\n",
            "Sabun        = Rp 10000\n",
            "Shampo        = Rp 15000\n",
            "Mie instant        = Rp 5000\n",
            "Detergen        = Rp 17500\n",
            " \n",
            "Total = Rp 47500\n"
          ]
        }
      ],
      "source": [
        "# nomor = -10.6\n",
        "\n",
        "# nama = \"Teknologi Informasi\"\n",
        "\n",
        "# # show literals\n",
        "# print(5)\n",
        "\n",
        "# # show variabel\n",
        "# print(nomor)\n",
        "# print(nama)\n",
        "\n",
        "# x = 3\n",
        "# y = 9\n",
        "\n",
        "# print('Isi dari variabel x adalah {} dan y adalah {}'.format(x,y))\n",
        "\n",
        "\n",
        "# # gunakan input() untuk memasukkan data pengguna\n",
        "# num = input('Masukkan Nomor: ')\n",
        "\n",
        "# print('Kamu Memasukkan:', num)\n",
        "\n",
        "# print('Tipe data dari variabel num:', type(num))\n",
        "\n",
        "# Memperbaiki script sehingga tidak muncul eror\n",
        "# print (\"Selamat datang di Toko Maju Jaya\")\n",
        "# print (\"Senin, 4 September 2023       13.05\")\n",
        "# print(\" \")\n",
        "\n",
        "# print(\"DAFTAR BELANJA:\")\n",
        "# item1 = \"Sabun\"\n",
        "# item2 = 'Shampo'\n",
        "# item3 = 'Mie instant'\n",
        "# item4 = 'Detergen'\n",
        "# harga1 = 10000\n",
        "# harga2 = 15000\n",
        "# harga3 = 5000\n",
        "# harga4 = 17500\n",
        "\n",
        "# total = harga1 + harga2 + harga3 + harga4\n",
        "\n",
        "# print(item1, \"       = Rp\", harga1)\n",
        "# print(item2, \"       = Rp\", harga2)\n",
        "# print(item3, \"       = Rp\", harga3)\n",
        "# print(item4, \"       = Rp\", harga4)\n",
        "\n",
        "# print(\" \")\n",
        "# print(\"Total = Rp \" + str(total))\n",
        "\n",
        "# with open(\"Kuitansi.txt\", \"w\") as writefile:\n",
        "#         writefile.write(\"Selamat Datang di Toko Maju Jaya\\n\")\n",
        "#         writefile.write(\" \\n\")\n",
        "#         writefile.write(\"Kuitansi - 4 Septermber 2023\\n\")\n",
        "#         writefile.write(\" \\n\")\n",
        "#         writefile.write(item1 + \" = Rp \" + str(harga1) + \"\\n\")\n",
        "#         writefile.write(item2 + \" = Rp \" + str(harga2) + \"\\n\")\n",
        "#         writefile.write(item3 + \" = Rp \" + str(harga3) + \"\\n\")\n",
        "#         writefile.write(item4 + \" = Rp \" + str(harga4) + \"\\n\")\n",
        "#         writefile.write(\" \\n\")\n",
        "#         writefile.write(\"Total Belanja   = Rp \" + str(total))"
      ]
    },
    {
      "cell_type": "code",
      "source": [
        "# # Weekly Exercise 1\n",
        "# # Mengganti data dengan biodata Anda\n",
        "# print(\"Biodata Mahasiswa\")\n",
        "# nama = \"Dzakii Luqman Faid\"\n",
        "# prodi = \"Teknologi Informasi\"\n",
        "# npm = \"2410506016\"\n",
        "# alamat = \"Jl Nanas\"\n",
        "# hobi = \"Ya\"\n",
        "# email = \"dzakiluqman275@gmail.com\"\n",
        "\n",
        "# with open(\"biodata.txt\", \"w\") as writefile:\n",
        "#     writefile.write(\"Biodata Mahasiswa\\n\")\n",
        "#     writefile.write(\"Nama : \" + nama + \"\\n\")\n",
        "#     writefile.write(\"Program Studi : \" + prodi + \"\\n\")\n",
        "#     writefile.write(\"NPM : \" + npm + \"\\n\")\n",
        "#     writefile.write(\"Alamat : \" + alamat + \"\\n\")\n",
        "#     writefile.write(\"Hobi : \" + hobi + \"\\n\")\n",
        "#     writefile.write(\"Email : \" + email + \"\\n\")"
      ],
      "metadata": {
        "colab": {
          "base_uri": "https://localhost:8080/"
        },
        "id": "lNo4q-4jBzJv",
        "outputId": "22de7b6c-ce84-4328-aa78-5dad677b592a"
      },
      "execution_count": null,
      "outputs": [
        {
          "output_type": "stream",
          "name": "stdout",
          "text": [
            "Biodata Mahasiswa\n"
          ]
        }
      ]
    },
    {
      "cell_type": "code",
      "source": [
        "biodata1 = \"/content/biodata.txt\"\n",
        "file1 = open(biodata1, \"r\")\n",
        "\n",
        "r_biodata1 = file1.read()\n",
        "print(r_biodata1)"
      ],
      "metadata": {
        "id": "8fKaCzLREZi8",
        "colab": {
          "base_uri": "https://localhost:8080/"
        },
        "outputId": "e019742d-f344-444b-b327-202f1df5746a"
      },
      "execution_count": null,
      "outputs": [
        {
          "output_type": "stream",
          "name": "stdout",
          "text": [
            "Biodata Mahasiswa\n",
            "Nama : Dzakii Luqman Faid\n",
            "Program Studi : Teknologi Informasi\n",
            "NPM : 2410506016\n",
            "Alamat : Jl Nanas\n",
            "Hobi : Ya\n",
            "Email : dzaki@gmail.com\n"
          ]
        }
      ]
    },
    {
      "cell_type": "code",
      "source": [
        "biodata1 = \"/content/biodata.txt\"\n",
        "file1 = open(biodata1, \"r\")\n",
        "\n",
        "with open(biodata1, \"r\") as file1:\n",
        "    FileasList = file1.readlines()\n",
        "\n",
        "nama = FileasList[0].strip()\n",
        "prodi = FileasList[1].strip()\n",
        "email = FileasList[5].strip()\n",
        "\n",
        "output_biodata1 = f\"{nama}\\n{prodi}\\n{email}\"\n",
        "print(f\"{output_biodata1}\")"
      ],
      "metadata": {
        "colab": {
          "base_uri": "https://localhost:8080/"
        },
        "id": "q0lfb1omHSdE",
        "outputId": "dcf70c14-8097-4f19-acac-12e07c7f4d0b"
      },
      "execution_count": 41,
      "outputs": [
        {
          "output_type": "stream",
          "name": "stdout",
          "text": [
            "Nama : Dzakii Luqman Faid\n",
            "Program Studi : Teknologi Informasi\n",
            "Email : dzaki@gmail.com\n"
          ]
        }
      ]
    },
    {
      "cell_type": "code",
      "source": [
        "biodata1 = \"/content/biodata.txt\"\n",
        "file1 = open(biodata1, \"r\")\n",
        "\n",
        "with open(biodata1, \"r\") as file1:\n",
        "    FileasList = file1.readlines()\n",
        "\n",
        "nama = FileasList[0].strip()\n",
        "npm = FileasList[2].strip()\n",
        "prodi = FileasList[1].strip()\n",
        "alamat = FileasList[3].strip()\n",
        "\n",
        "output_biodata1 = f\"{nama}\\n{npm}\\n{prodi}\\n{alamat}\"\n",
        "\n",
        "file_update = \"/content/biodata_updated.txt\"\n",
        "with open(file_update, \"w\") as file2:\n",
        "    file2.write(output_biodata1)\n",
        "\n",
        "print(f\"{output_biodata1}\")"
      ],
      "metadata": {
        "colab": {
          "base_uri": "https://localhost:8080/"
        },
        "id": "56DscjQ0MXrF",
        "outputId": "f5ac6ff5-4991-4b6a-c0d5-752be9bcc643"
      },
      "execution_count": 43,
      "outputs": [
        {
          "output_type": "stream",
          "name": "stdout",
          "text": [
            "Nama : Dzakii Luqman Faid\n",
            "NPM : 2410506016\n",
            "Program Studi : Teknologi Informasi\n",
            "Alamat : Jl Nanas\n"
          ]
        }
      ]
    }
  ]
}